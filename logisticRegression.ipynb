{
 "cells": [
  {
   "cell_type": "code",
   "execution_count": 3,
   "metadata": {
    "collapsed": false
   },
   "outputs": [],
   "source": [
    "# import some basic libraries\n",
    "import pandas as pd\n",
    "import pickle\n",
    "import numpy as np\n",
    "import matplotlib.pyplot as plt\n",
    "import sklearn\n",
    "import seaborn as sns\n",
    "from sklearn import linear_model\n",
    "\n",
    "%matplotlib inline"
   ]
  },
  {
   "cell_type": "code",
   "execution_count": 57,
   "metadata": {
    "collapsed": false
   },
   "outputs": [
    {
     "name": "stdout",
     "output_type": "stream",
     "text": [
      "0.046202754663062964\n",
      "Experiment_Data: (258253, 12) \n",
      "Evaluation_Set: (38, 4)        \n",
      "Graduated_Set: (11932, 12)\n",
      "Experiment_Data Columns:\n",
      "['YEAR', 'EXPERIMENT', 'LOCATION', 'VARIETY', 'FAMILY', 'CHECK', 'RM', 'REPNO', 'YIELD', 'CLASS_OF', 'GRAD', 'BAGSOLD']\n",
      "Evaluation_Set Columns:\n",
      "['CLASS_OF', 'VARIETY', 'FAMILY', 'RM']\n"
     ]
    }
   ],
   "source": [
    "# IMPORT BASIC DATA\n",
    "EXPERIMENT_DATA = pickle.load(open('EXPERIMENT_SET_pandas.pkl', 'rb'))\n",
    "EVALUATION_SET = pickle.load(open('EVALUATION_SET_pandas.pkl', 'rb'))\n",
    "CONSIDERED = EXPERIMENT_DATA[EXPERIMENT_DATA[\"GRAD\"] == \"YES\"]\n",
    "\n",
    "sampleSize = 11932/258253\n",
    "print(sampleSize)\n",
    "print(\"Experiment_Data: {} \\nEvaluation_Set: {} \\\n",
    "       \\nGraduated_Set: {}\".format(EXPERIMENT_DATA.shape, \n",
    "                                  EVALUATION_SET.shape,\n",
    "                                  CONSIDERED.shape))\n",
    "print(\"Experiment_Data Columns:\\n{}\".format(list(EXPERIMENT_DATA.columns.values)))\n",
    "print(\"Evaluation_Set Columns:\\n{}\".format(list(EVALUATION_SET.columns.values)))"
   ]
  },
  {
   "cell_type": "markdown",
   "metadata": {},
   "source": [
    "# Comments\n",
    "Notice that the graduated set that we are downsampling the data with only represents $4\\%$ of the actual data set."
   ]
  },
  {
   "cell_type": "code",
   "execution_count": 58,
   "metadata": {
    "collapsed": false,
    "scrolled": true
   },
   "outputs": [
    {
     "name": "stdout",
     "output_type": "stream",
     "text": [
      "Experiment_Data Features: \n",
      "YEAR            int64\n",
      "EXPERIMENT     object\n",
      "LOCATION       object\n",
      "VARIETY        object\n",
      "FAMILY         object\n",
      "CHECK            bool\n",
      "RM            float64\n",
      "REPNO           int64\n",
      "YIELD         float64\n",
      "CLASS_OF       object\n",
      "GRAD           object\n",
      "BAGSOLD        object\n",
      "dtype: object\n",
      "\n",
      "Evaluation_Set Features:\n",
      "CLASS_OF      int64\n",
      "VARIETY      object\n",
      "FAMILY       object\n",
      "RM          float64\n",
      "dtype: object\n"
     ]
    }
   ],
   "source": [
    "## PRINT BASIC DATA INFORMATION\n",
    "print(\"Experiment_Data Features: \\n{}\".format(EXPERIMENT_DATA.dtypes))\n",
    "print(\"\\nEvaluation_Set Features:\\n{}\".format(EVALUATION_SET.dtypes))"
   ]
  },
  {
   "cell_type": "code",
   "execution_count": 59,
   "metadata": {
    "collapsed": false
   },
   "outputs": [
    {
     "name": "stdout",
     "output_type": "stream",
     "text": [
      "   YEAR  EXPERIMENT LOCATION  VARIETY    FAMILY CHECK   RM  REPNO      YIELD  \\\n",
      "0  2009  09YT000052     3210  V000016  FAM05619  True  3.9      1  50.302327   \n",
      "1  2009  09YT000052     3210  V000016  FAM05619  True  3.9      2  48.331305   \n",
      "2  2009  09YT000052     3210  V000018  FAM05619  True  3.7      1  53.103246   \n",
      "3  2009  09YT000052     3210  V000018  FAM05619  True  3.7      2  53.103246   \n",
      "4  2009  09YT000052     3210  V000039  FAM05625  True  3.4      1  58.081136   \n",
      "\n",
      "  CLASS_OF GRAD BAGSOLD  \n",
      "0        .    .       .  \n",
      "1        .    .       .  \n",
      "2        .    .       .  \n",
      "3        .    .       .  \n",
      "4        .    .       .           YEAR  EXPERIMENT LOCATION  VARIETY    FAMILY CHECK   RM  REPNO  \\\n",
      "258248  2014  14YT005707     3490  V155853  FAM13521  True  2.7      2   \n",
      "258249  2014  14YT005707     3490  V156314  FAM12531  True  2.8      1   \n",
      "258250  2014  14YT005707     3490  V156314  FAM12531  True  2.8      2   \n",
      "258251  2014  14YT005707     3490  V156553  FAM14238  True  2.9      1   \n",
      "258252  2014  14YT005707     3490  V156553  FAM14238  True  2.9      2   \n",
      "\n",
      "            YIELD CLASS_OF GRAD BAGSOLD  \n",
      "258248  57.215105     2011  YES  761392  \n",
      "258249  69.472023     2012  YES  755156  \n",
      "258250  64.089668     2012  YES  755156  \n",
      "258251  72.767815     2013  YES  595119  \n",
      "258252  60.186732     2013  YES  595119  \n"
     ]
    }
   ],
   "source": [
    "print(\"{} {}\".format(EXPERIMENT_DATA.head(), EXPERIMENT_DATA.tail()))"
   ]
  },
  {
   "cell_type": "code",
   "execution_count": 60,
   "metadata": {
    "collapsed": false
   },
   "outputs": [
    {
     "name": "stdout",
     "output_type": "stream",
     "text": [
      "The number of unique locations that we have is 152.\n",
      "The number of unique yields that we have is 107.\n",
      "The number of unique families is 44851.\n",
      "The number of unique varieties is 15632.\n"
     ]
    }
   ],
   "source": [
    "print(\"The number of unique locations that we have is {}.\"\n",
    "      .format(len(set(EXPERIMENT_DATA['LOCATION']))))\n",
    "print(\"The number of unique yields that we have is {}.\"\n",
    "      .format(len(set(np.floor(EXPERIMENT_DATA['YIELD'])))))\n",
    "print(\"The number of unique families is {}.\"\n",
    "      .format(len(set(EXPERIMENT_DATA['YIELD']))))\n",
    "print(\"The number of unique varieties is {}.\"\n",
    "      .format(len(set(EXPERIMENT_DATA['VARIETY']))))"
   ]
  },
  {
   "cell_type": "code",
   "execution_count": 102,
   "metadata": {
    "collapsed": false,
    "scrolled": true
   },
   "outputs": [
    {
     "name": "stdout",
     "output_type": "stream",
     "text": [
      "(21894, 12)\n",
      "21894\n"
     ]
    }
   ],
   "source": [
    "clean = EXPERIMENT_DATA[EXPERIMENT_DATA[\"GRAD\"] != '.']\n",
    "print(clean.shape)\n",
    "clean.is_copy = False\n",
    "# remove bags sold for now, we just want to predict graduation \n",
    "del clean[\"BAGSOLD\"]\n",
    "del clean[\"YEAR\"]\n",
    "print(clean.shape[0])"
   ]
  },
  {
   "cell_type": "code",
   "execution_count": 103,
   "metadata": {
    "collapsed": false
   },
   "outputs": [],
   "source": [
    "var_dict = list(clean[\"VARIETY\"].to_dict().values())\n",
    "loc_dict = list(clean[\"LOCATION\"].to_dict().values())\n",
    "exp_dict = list(clean[\"EXPERIMENT\"].to_dict().values())\n",
    "family_dict = list(clean[\"FAMILY\"].to_dict().values())"
   ]
  },
  {
   "cell_type": "code",
   "execution_count": 104,
   "metadata": {
    "collapsed": false,
    "scrolled": true
   },
   "outputs": [],
   "source": [
    "from sklearn import preprocessing\n",
    "le = preprocessing.LabelEncoder()\n",
    "le1 = preprocessing.LabelEncoder()\n",
    "le2 = preprocessing.LabelEncoder()\n",
    "le3 = preprocessing.LabelEncoder()\n",
    "\n",
    "labeled_var = np.asarray(le.fit_transform(var_dict))\n",
    "labeled_loc = np.asarray(le1.fit_transform(loc_dict))\n",
    "labeled_exp = np.asarray(le2.fit_transform(exp_dict))\n",
    "labeled_fam = np.asarray(le3.fit_transform(family_dict))\n"
   ]
  },
  {
   "cell_type": "code",
   "execution_count": 105,
   "metadata": {
    "collapsed": false
   },
   "outputs": [],
   "source": [
    "grad_idx = clean.columns.get_loc(\"GRAD\")\n",
    "\n",
    "clean[\"GRAD\"] = clean[\"GRAD\"].replace([\"YES\", \"NO\"], [1,0])\n",
    "clean[\"CHECK\"] = clean[\"CHECK\"].astype(int)\n",
    "clean[\"VARIETY\"] = labeled_var\n",
    "clean[\"LOCATION\"] = labeled_loc\n",
    "clean[\"EXPERIMENT\"] = labeled_exp\n",
    "clean[\"FAMILY\"] = labeled_fam\n",
    "\n",
    "# clean.to_csv(\"clean.csv\")"
   ]
  },
  {
   "cell_type": "code",
   "execution_count": 106,
   "metadata": {
    "collapsed": false,
    "scrolled": false
   },
   "outputs": [
    {
     "name": "stdout",
     "output_type": "stream",
     "text": [
      "EXPERIMENT      int64\n",
      "LOCATION        int64\n",
      "VARIETY         int64\n",
      "FAMILY          int64\n",
      "CHECK           int32\n",
      "RM            float64\n",
      "REPNO           int64\n",
      "YIELD         float64\n",
      "CLASS_OF       object\n",
      "GRAD            int64\n",
      "dtype: object\n"
     ]
    },
    {
     "data": {
      "text/html": [
       "<div>\n",
       "<table border=\"1\" class=\"dataframe\">\n",
       "  <thead>\n",
       "    <tr style=\"text-align: right;\">\n",
       "      <th></th>\n",
       "      <th>EXPERIMENT</th>\n",
       "      <th>LOCATION</th>\n",
       "      <th>VARIETY</th>\n",
       "      <th>FAMILY</th>\n",
       "      <th>CHECK</th>\n",
       "      <th>RM</th>\n",
       "      <th>REPNO</th>\n",
       "      <th>YIELD</th>\n",
       "      <th>CLASS_OF</th>\n",
       "      <th>GRAD</th>\n",
       "    </tr>\n",
       "  </thead>\n",
       "  <tbody>\n",
       "    <tr>\n",
       "      <th>694</th>\n",
       "      <td>95</td>\n",
       "      <td>103</td>\n",
       "      <td>15</td>\n",
       "      <td>24</td>\n",
       "      <td>0</td>\n",
       "      <td>3.7</td>\n",
       "      <td>1</td>\n",
       "      <td>68.133720</td>\n",
       "      <td>2011</td>\n",
       "      <td>0</td>\n",
       "    </tr>\n",
       "    <tr>\n",
       "      <th>695</th>\n",
       "      <td>95</td>\n",
       "      <td>103</td>\n",
       "      <td>15</td>\n",
       "      <td>24</td>\n",
       "      <td>0</td>\n",
       "      <td>3.7</td>\n",
       "      <td>2</td>\n",
       "      <td>74.836534</td>\n",
       "      <td>2011</td>\n",
       "      <td>0</td>\n",
       "    </tr>\n",
       "    <tr>\n",
       "      <th>1263</th>\n",
       "      <td>95</td>\n",
       "      <td>103</td>\n",
       "      <td>19</td>\n",
       "      <td>1</td>\n",
       "      <td>0</td>\n",
       "      <td>3.8</td>\n",
       "      <td>1</td>\n",
       "      <td>48.027659</td>\n",
       "      <td>2011</td>\n",
       "      <td>0</td>\n",
       "    </tr>\n",
       "    <tr>\n",
       "      <th>1264</th>\n",
       "      <td>95</td>\n",
       "      <td>103</td>\n",
       "      <td>19</td>\n",
       "      <td>1</td>\n",
       "      <td>0</td>\n",
       "      <td>3.8</td>\n",
       "      <td>2</td>\n",
       "      <td>52.497143</td>\n",
       "      <td>2011</td>\n",
       "      <td>0</td>\n",
       "    </tr>\n",
       "    <tr>\n",
       "      <th>1379</th>\n",
       "      <td>198</td>\n",
       "      <td>48</td>\n",
       "      <td>74</td>\n",
       "      <td>29</td>\n",
       "      <td>0</td>\n",
       "      <td>2.1</td>\n",
       "      <td>1</td>\n",
       "      <td>61.924294</td>\n",
       "      <td>2011</td>\n",
       "      <td>1</td>\n",
       "    </tr>\n",
       "  </tbody>\n",
       "</table>\n",
       "</div>"
      ],
      "text/plain": [
       "      EXPERIMENT  LOCATION  VARIETY  FAMILY  CHECK   RM  REPNO      YIELD  \\\n",
       "694           95       103       15      24      0  3.7      1  68.133720   \n",
       "695           95       103       15      24      0  3.7      2  74.836534   \n",
       "1263          95       103       19       1      0  3.8      1  48.027659   \n",
       "1264          95       103       19       1      0  3.8      2  52.497143   \n",
       "1379         198        48       74      29      0  2.1      1  61.924294   \n",
       "\n",
       "     CLASS_OF  GRAD  \n",
       "694      2011     0  \n",
       "695      2011     0  \n",
       "1263     2011     0  \n",
       "1264     2011     0  \n",
       "1379     2011     1  "
      ]
     },
     "execution_count": 106,
     "metadata": {},
     "output_type": "execute_result"
    }
   ],
   "source": [
    "print(clean.dtypes)\n",
    "clean.head()"
   ]
  },
  {
   "cell_type": "code",
   "execution_count": 107,
   "metadata": {
    "collapsed": false
   },
   "outputs": [
    {
     "name": "stdout",
     "output_type": "stream",
     "text": [
      "['EXPERIMENT' 'LOCATION' 'VARIETY' 'FAMILY' 'CHECK' 'RM' 'REPNO' 'YIELD'\n",
      " 'CLASS_OF']\n",
      "(13136, 9)\n"
     ]
    }
   ],
   "source": [
    "# partition the clean data for 60/40 train test\n",
    "samples = int(clean.shape[0] * 0.6)\n",
    "features = clean.columns.values[:-1]\n",
    "print(features)\n",
    "train_x = clean[0:samples][features]\n",
    "train_y = clean[0:samples][\"GRAD\"]\n",
    "valid_x = clean[samples:][features]\n",
    "valid_y = clean[samples:][\"GRAD\"]\n",
    "\n",
    "print(train_x.shape)"
   ]
  },
  {
   "cell_type": "code",
   "execution_count": 108,
   "metadata": {
    "collapsed": false
   },
   "outputs": [
    {
     "data": {
      "text/plain": [
       "LogisticRegression(C=1.0, class_weight=None, dual=False, fit_intercept=True,\n",
       "          intercept_scaling=1, max_iter=1000, multi_class='ovr', n_jobs=1,\n",
       "          penalty='l2', random_state=None, solver='liblinear', tol=0.0001,\n",
       "          verbose=0, warm_start=False)"
      ]
     },
     "execution_count": 108,
     "metadata": {},
     "output_type": "execute_result"
    }
   ],
   "source": [
    "from sklearn.linear_model import LogisticRegression\n",
    "\n",
    "model = LogisticRegression(penalty='l2', dual=False, tol=0.0001, C=1.0, intercept_scaling=1, \n",
    "                           class_weight=None, random_state=None, solver='liblinear', max_iter=1000, \n",
    "                           multi_class='ovr', verbose=0, warm_start=False, n_jobs=1)\n",
    "\n",
    "model.fit(train_x, train_y)"
   ]
  },
  {
   "cell_type": "code",
   "execution_count": 109,
   "metadata": {
    "collapsed": false
   },
   "outputs": [
    {
     "name": "stdout",
     "output_type": "stream",
     "text": [
      "Accuracy of the Model 0.770723909568\n"
     ]
    }
   ],
   "source": [
    "predictions = model.predict(valid_x)\n",
    "print(\"Accuracy of the Model\", np.sum(predictions == valid_y) / len(predictions))\n"
   ]
  },
  {
   "cell_type": "code",
   "execution_count": 110,
   "metadata": {
    "collapsed": false
   },
   "outputs": [
    {
     "data": {
      "text/plain": [
       "array([[  2.52897726e-04,   1.62061048e-04,   6.49632083e-04,\n",
       "         -3.60634169e-03,   2.15521097e+00,   2.33712788e-01,\n",
       "         -4.83618616e-02,   2.92613909e-03,  -5.94767902e-04]])"
      ]
     },
     "execution_count": 110,
     "metadata": {},
     "output_type": "execute_result"
    }
   ],
   "source": [
    "model.coef_t"
   ]
  },
  {
   "cell_type": "code",
   "execution_count": null,
   "metadata": {
    "collapsed": true
   },
   "outputs": [],
   "source": []
  }
 ],
 "metadata": {
  "anaconda-cloud": {},
  "kernelspec": {
   "display_name": "Python [conda root]",
   "language": "python",
   "name": "conda-root-py"
  },
  "language_info": {
   "codemirror_mode": {
    "name": "ipython",
    "version": 3
   },
   "file_extension": ".py",
   "mimetype": "text/x-python",
   "name": "python",
   "nbconvert_exporter": "python",
   "pygments_lexer": "ipython3",
   "version": "3.5.2"
  }
 },
 "nbformat": 4,
 "nbformat_minor": 0
}
