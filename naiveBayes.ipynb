{
 "cells": [
  {
   "cell_type": "code",
   "execution_count": 3,
   "metadata": {
    "collapsed": false
   },
   "outputs": [],
   "source": [
    "# import some basic libraries\n",
    "import pandas as pd\n",
    "import pickle\n",
    "import numpy as np\n",
    "import matplotlib.pyplot as plt\n",
    "import sklearn\n",
    "import seaborn as sns\n",
    "from sklearn import linear_model\n",
    "\n",
    "%matplotlib inline"
   ]
  },
  {
   "cell_type": "code",
   "execution_count": 4,
   "metadata": {
    "collapsed": false
   },
   "outputs": [
    {
     "name": "stdout",
     "output_type": "stream",
     "text": [
      "0.046202754663062964\n",
      "Experiment_Data: (258253, 12) \n",
      "Evaluation_Set: (38, 4)        \n",
      "Graduated_Set: (11932, 12)\n",
      "Experiment_Data Columns:\n",
      "['YEAR', 'EXPERIMENT', 'LOCATION', 'VARIETY', 'FAMILY', 'CHECK', 'RM', 'REPNO', 'YIELD', 'CLASS_OF', 'GRAD', 'BAGSOLD']\n",
      "Evaluation_Set Columns:\n",
      "['CLASS_OF', 'VARIETY', 'FAMILY', 'RM']\n"
     ]
    }
   ],
   "source": [
    "# IMPORT BASIC DATA\n",
    "EXPERIMENT_DATA = pickle.load(open('EXPERIMENT_SET_pandas.pkl', 'rb'))\n",
    "EVALUATION_SET = pickle.load(open('EVALUATION_SET_pandas.pkl', 'rb'))\n",
    "CONSIDERED = EXPERIMENT_DATA[EXPERIMENT_DATA[\"GRAD\"] == \"YES\"]\n",
    "\n",
    "sampleSize = 11932/258253\n",
    "print(sampleSize)\n",
    "print(\"Experiment_Data: {} \\nEvaluation_Set: {} \\\n",
    "       \\nGraduated_Set: {}\".format(EXPERIMENT_DATA.shape, \n",
    "                                  EVALUATION_SET.shape,\n",
    "                                  CONSIDERED.shape))\n",
    "print(\"Experiment_Data Columns:\\n{}\".format(list(EXPERIMENT_DATA.columns.values)))\n",
    "print(\"Evaluation_Set Columns:\\n{}\".format(list(EVALUATION_SET.columns.values)))"
   ]
  },
  {
   "cell_type": "code",
   "execution_count": 5,
   "metadata": {
    "collapsed": false,
    "scrolled": true
   },
   "outputs": [
    {
     "name": "stdout",
     "output_type": "stream",
     "text": [
      "(21894, 12)\n",
      "21894\n"
     ]
    }
   ],
   "source": [
    "clean = EXPERIMENT_DATA[EXPERIMENT_DATA[\"GRAD\"] != '.']\n",
    "print(clean.shape)\n",
    "clean.is_copy = False\n",
    "# remove bags sold for now, we just want to predict graduation \n",
    "# del clean[\"BAGSOLD\"]\n",
    "# del clean[\"YEAR\"]\n",
    "print(clean.shape[0])"
   ]
  },
  {
   "cell_type": "code",
   "execution_count": 6,
   "metadata": {
    "collapsed": false
   },
   "outputs": [],
   "source": [
    "var_dict = list(clean[\"VARIETY\"].to_dict().values())\n",
    "loc_dict = list(clean[\"LOCATION\"].to_dict().values())\n",
    "exp_dict = list(clean[\"EXPERIMENT\"].to_dict().values())\n",
    "family_dict = list(clean[\"FAMILY\"].to_dict().values())\n",
    "\n",
    "var_dict_eval = list(EVALUATION_SET[\"VARIETY\"].to_dict().values())\n",
    "family_dict_eval = list(EVALUATION_SET[\"FAMILY\"].to_dict().values())"
   ]
  },
  {
   "cell_type": "code",
   "execution_count": 7,
   "metadata": {
    "collapsed": false,
    "scrolled": true
   },
   "outputs": [],
   "source": [
    "from sklearn import preprocessing\n",
    "le = preprocessing.LabelEncoder()\n",
    "le1 = preprocessing.LabelEncoder()\n",
    "le2 = preprocessing.LabelEncoder()\n",
    "le3 = preprocessing.LabelEncoder()\n",
    "le4 = preprocessing.LabelEncoder()\n",
    "le5 = preprocessing.LabelEncoder()\n",
    "\n",
    "labeled_var = np.asarray(le.fit_transform(var_dict))\n",
    "labeled_loc = np.asarray(le1.fit_transform(loc_dict))\n",
    "labeled_exp = np.asarray(le2.fit_transform(exp_dict))\n",
    "labeled_fam = np.asarray(le3.fit_transform(family_dict))\n",
    "\n",
    "labeled_var_eval = np.asarray(le4.fit_transform(var_dict_eval))\n",
    "labeled_fam_eval = np.asarray(le5.fit_transform(family_dict_eval))\n",
    "\n"
   ]
  },
  {
   "cell_type": "code",
   "execution_count": 8,
   "metadata": {
    "collapsed": false
   },
   "outputs": [],
   "source": [
    "grad_idx = clean.columns.get_loc(\"GRAD\")\n",
    "\n",
    "clean[\"GRAD\"] = clean[\"GRAD\"].replace([\"YES\", \"NO\"], [1,0])\n",
    "clean[\"CHECK\"] = clean[\"CHECK\"].astype(int)\n",
    "clean[\"VARIETY\"] = labeled_var\n",
    "clean[\"LOCATION\"] = labeled_loc\n",
    "clean[\"EXPERIMENT\"] = labeled_exp\n",
    "clean[\"FAMILY\"] = labeled_fam\n",
    "clean[\"CLASS_OF\"] = clean[\"CLASS_OF\"].astype(int)\n",
    "clean[\"BAGSOLD\"] = clean[\"BAGSOLD\"].astype(int)\n",
    "\n",
    "EVALUATION_SET[\"VARIETY\"] = labeled_var_eval\n",
    "EVALUATION_SET[\"FAMILY\"] = labeled_fam_eval\n",
    "# clean.to_csv(\"clean.csv\")"
   ]
  },
  {
   "cell_type": "code",
   "execution_count": 9,
   "metadata": {
    "collapsed": false,
    "scrolled": false
   },
   "outputs": [
    {
     "name": "stdout",
     "output_type": "stream",
     "text": [
      "YEAR            int64\n",
      "EXPERIMENT      int64\n",
      "LOCATION        int64\n",
      "VARIETY         int64\n",
      "FAMILY          int64\n",
      "CHECK           int32\n",
      "RM            float64\n",
      "REPNO           int64\n",
      "YIELD         float64\n",
      "CLASS_OF        int32\n",
      "GRAD            int64\n",
      "BAGSOLD         int32\n",
      "dtype: object\n"
     ]
    },
    {
     "data": {
      "text/html": [
       "<div>\n",
       "<table border=\"1\" class=\"dataframe\">\n",
       "  <thead>\n",
       "    <tr style=\"text-align: right;\">\n",
       "      <th></th>\n",
       "      <th>YEAR</th>\n",
       "      <th>EXPERIMENT</th>\n",
       "      <th>LOCATION</th>\n",
       "      <th>VARIETY</th>\n",
       "      <th>FAMILY</th>\n",
       "      <th>CHECK</th>\n",
       "      <th>RM</th>\n",
       "      <th>REPNO</th>\n",
       "      <th>YIELD</th>\n",
       "      <th>CLASS_OF</th>\n",
       "      <th>GRAD</th>\n",
       "      <th>BAGSOLD</th>\n",
       "    </tr>\n",
       "  </thead>\n",
       "  <tbody>\n",
       "    <tr>\n",
       "      <th>694</th>\n",
       "      <td>2009</td>\n",
       "      <td>95</td>\n",
       "      <td>103</td>\n",
       "      <td>15</td>\n",
       "      <td>24</td>\n",
       "      <td>0</td>\n",
       "      <td>3.7</td>\n",
       "      <td>1</td>\n",
       "      <td>68.133720</td>\n",
       "      <td>2011</td>\n",
       "      <td>0</td>\n",
       "      <td>0</td>\n",
       "    </tr>\n",
       "    <tr>\n",
       "      <th>695</th>\n",
       "      <td>2009</td>\n",
       "      <td>95</td>\n",
       "      <td>103</td>\n",
       "      <td>15</td>\n",
       "      <td>24</td>\n",
       "      <td>0</td>\n",
       "      <td>3.7</td>\n",
       "      <td>2</td>\n",
       "      <td>74.836534</td>\n",
       "      <td>2011</td>\n",
       "      <td>0</td>\n",
       "      <td>0</td>\n",
       "    </tr>\n",
       "    <tr>\n",
       "      <th>1263</th>\n",
       "      <td>2009</td>\n",
       "      <td>95</td>\n",
       "      <td>103</td>\n",
       "      <td>19</td>\n",
       "      <td>1</td>\n",
       "      <td>0</td>\n",
       "      <td>3.8</td>\n",
       "      <td>1</td>\n",
       "      <td>48.027659</td>\n",
       "      <td>2011</td>\n",
       "      <td>0</td>\n",
       "      <td>0</td>\n",
       "    </tr>\n",
       "    <tr>\n",
       "      <th>1264</th>\n",
       "      <td>2009</td>\n",
       "      <td>95</td>\n",
       "      <td>103</td>\n",
       "      <td>19</td>\n",
       "      <td>1</td>\n",
       "      <td>0</td>\n",
       "      <td>3.8</td>\n",
       "      <td>2</td>\n",
       "      <td>52.497143</td>\n",
       "      <td>2011</td>\n",
       "      <td>0</td>\n",
       "      <td>0</td>\n",
       "    </tr>\n",
       "    <tr>\n",
       "      <th>1379</th>\n",
       "      <td>2009</td>\n",
       "      <td>198</td>\n",
       "      <td>48</td>\n",
       "      <td>74</td>\n",
       "      <td>29</td>\n",
       "      <td>0</td>\n",
       "      <td>2.1</td>\n",
       "      <td>1</td>\n",
       "      <td>61.924294</td>\n",
       "      <td>2011</td>\n",
       "      <td>1</td>\n",
       "      <td>61161</td>\n",
       "    </tr>\n",
       "  </tbody>\n",
       "</table>\n",
       "</div>"
      ],
      "text/plain": [
       "      YEAR  EXPERIMENT  LOCATION  VARIETY  FAMILY  CHECK   RM  REPNO  \\\n",
       "694   2009          95       103       15      24      0  3.7      1   \n",
       "695   2009          95       103       15      24      0  3.7      2   \n",
       "1263  2009          95       103       19       1      0  3.8      1   \n",
       "1264  2009          95       103       19       1      0  3.8      2   \n",
       "1379  2009         198        48       74      29      0  2.1      1   \n",
       "\n",
       "          YIELD  CLASS_OF  GRAD  BAGSOLD  \n",
       "694   68.133720      2011     0        0  \n",
       "695   74.836534      2011     0        0  \n",
       "1263  48.027659      2011     0        0  \n",
       "1264  52.497143      2011     0        0  \n",
       "1379  61.924294      2011     1    61161  "
      ]
     },
     "execution_count": 9,
     "metadata": {},
     "output_type": "execute_result"
    }
   ],
   "source": [
    "print(clean.dtypes)\n",
    "clean.head()"
   ]
  },
  {
   "cell_type": "code",
   "execution_count": 20,
   "metadata": {
    "collapsed": false
   },
   "outputs": [
    {
     "name": "stdout",
     "output_type": "stream",
     "text": [
      "['YEAR' 'EXPERIMENT' 'LOCATION' 'VARIETY' 'FAMILY' 'CHECK' 'RM' 'REPNO'\n",
      " 'YIELD' 'CLASS_OF' 'GRAD']\n",
      "CLASS_OF      int64\n",
      "VARIETY       int64\n",
      "FAMILY        int64\n",
      "RM          float64\n",
      "dtype: object\n",
      "(17515, 10)\n",
      "['YEAR' 'EXPERIMENT' 'LOCATION' 'VARIETY' 'FAMILY' 'CHECK' 'RM' 'REPNO'\n",
      " 'YIELD' 'CLASS_OF']\n"
     ]
    }
   ],
   "source": [
    "# partition the clean data for 80/20 train test\n",
    "samples = int(clean.shape[0] * 0.8)\n",
    "features = clean.columns.values[:-1]\n",
    "print(features)\n",
    "train_x = clean[0:samples][features]\n",
    "# del train_x[\"EXPERIMENT\"]\n",
    "# del train_x[\"LOCATION\"]\n",
    "# del train_x[\"CHECK\"]\n",
    "# del train_x[\"REPNO\"]\n",
    "# del train_x[\"YIELD\"]\n",
    "# del train_x[\"YEAR\"]\n",
    "del train_x[\"GRAD\"]\n",
    "train_y = clean[0:samples][\"GRAD\"]\n",
    "valid_x = clean[samples:][features]\n",
    "# del valid_x[\"EXPERIMENT\"]\n",
    "# del valid_x[\"LOCATION\"]\n",
    "# del valid_x[\"CHECK\"]\n",
    "# del valid_x[\"REPNO\"]\n",
    "# del valid_x[\"YIELD\"]\n",
    "# del valid_x[\"YEAR\"]\n",
    "del valid_x[\"GRAD\"]\n",
    "valid_y = clean[samples:][\"GRAD\"]\n",
    "\n",
    "test_x = EVALUATION_SET\n",
    "print(EVALUATION_SET.dtypes)\n",
    "\n",
    "print(train_x.shape)\n",
    "print(train_x.columns.values)"
   ]
  },
  {
   "cell_type": "code",
   "execution_count": 21,
   "metadata": {
    "collapsed": false
   },
   "outputs": [
    {
     "name": "stdout",
     "output_type": "stream",
     "text": [
      "['YEAR' 'EXPERIMENT' 'LOCATION' 'VARIETY' 'FAMILY' 'CHECK' 'RM' 'REPNO'\n",
      " 'YIELD' 'CLASS_OF']\n",
      "(4379, 10) (38, 4)\n"
     ]
    },
    {
     "data": {
      "text/plain": [
       "array(['YEAR', 'EXPERIMENT', 'LOCATION', 'VARIETY', 'FAMILY', 'CHECK',\n",
       "       'RM', 'REPNO', 'YIELD', 'CLASS_OF'], dtype=object)"
      ]
     },
     "execution_count": 21,
     "metadata": {},
     "output_type": "execute_result"
    }
   ],
   "source": [
    "from sklearn.naive_bayes import BernoulliNB\n",
    "\n",
    "print(train_x.columns.values)\n",
    "gnb = BernoulliNB()\n",
    "gnb.fit(train_x, train_y)\n",
    "print(valid_x.shape, test_x.shape)\n",
    "valid_x.columns.values"
   ]
  },
  {
   "cell_type": "code",
   "execution_count": 22,
   "metadata": {
    "collapsed": false
   },
   "outputs": [
    {
     "name": "stdout",
     "output_type": "stream",
     "text": [
      "Accuracy of the Model 0.758849052295\n"
     ]
    }
   ],
   "source": [
    "predictions = gnb.predict(valid_x)\n",
    "print(\"Accuracy of the Model\", np.sum(predictions == valid_y) / len(predictions))\n",
    "# new_pred = gnb.predict(test_x)\n",
    "# valid_x.shape\n",
    "# print(new_pred)"
   ]
  },
  {
   "cell_type": "code",
   "execution_count": 19,
   "metadata": {
    "collapsed": false
   },
   "outputs": [
    {
     "name": "stdout",
     "output_type": "stream",
     "text": [
      "        YEAR  EXPERIMENT  LOCATION  VARIETY  FAMILY  CHECK   RM  REPNO  \\\n",
      "235042  2013         351        75       56       4      0  2.7      1   \n",
      "235043  2013         351        75       56       4      0  2.3      1   \n",
      "235044  2013         183        64       76      42      0  2.3      2   \n",
      "235045  2013         183        64      100       8      0  2.4      1   \n",
      "235048  2013         183        64      100       8      0  2.6      1   \n",
      "235049  2013         351        75       75      38      0  2.6      2   \n",
      "235122  2013         351        75       75      38      1  2.8      1   \n",
      "235123  2013         351        75       84      27      1  2.8      2   \n",
      "235124  2013         351        75       84      27      1  2.4      1   \n",
      "235125  2013         351        75       91      67      1  2.4      2   \n",
      "235126  2013         351        75       91      67      1  2.7      1   \n",
      "235127  2013         351        75      105      15      1  2.7      2   \n",
      "235128  2013         351        75      105      15      1  2.5      1   \n",
      "235129  2013         351        79        4      30      1  2.5      2   \n",
      "235206  2013          94       133       22      44      1  2.8      1   \n",
      "235207  2013         351        79       48      55      1  2.8      2   \n",
      "235208  2013         351        79       56       4      1  2.4      1   \n",
      "235209  2013         283        83       75      38      1  2.4      2   \n",
      "235210  2013         283        83       75      38      1  2.7      1   \n",
      "235211  2013         351        79       75      38      1  2.7      2   \n",
      "235212  2013         347        61       95      73      1  2.5      1   \n",
      "235213  2013         351        79       91      67      1  2.5      2   \n",
      "235290  2013         351        79      105      15      1  2.8      1   \n",
      "235291  2013          82       110       67      74      1  2.8      2   \n",
      "235292  2013          82       110       67      74      1  2.4      1   \n",
      "235293  2013         265        53       75      38      1  2.4      2   \n",
      "235294  2013         351        80        4      30      1  2.7      1   \n",
      "235295  2013         351        80        4      30      1  2.7      2   \n",
      "235296  2013         347        61       96      25      1  2.5      1   \n",
      "235297  2013         183        80       76      42      1  2.5      2   \n",
      "...      ...         ...       ...      ...     ...    ...  ...    ...   \n",
      "258079  2014         198        46        4      30      1  2.7      1   \n",
      "258080  2014         198        46        4      30      1  2.7      2   \n",
      "258081  2014         198        46        5      31      1  2.8      1   \n",
      "258082  2014         198        46        5      31      1  2.8      2   \n",
      "258083  2014         198        46       13      23      1  2.9      1   \n",
      "258084  2014         198        46       13      23      1  2.9      2   \n",
      "258149  2014         231        89       74      29      1  3.0      1   \n",
      "258150  2014          95        99       15      24      1  3.0      2   \n",
      "258151  2014          95        99       15      24      1  2.7      1   \n",
      "258152  2014          95        99       19       1      1  2.7      2   \n",
      "258161  2014          95        99       19       1      1  3.0      1   \n",
      "258162  2014         198        48        5      31      1  3.0      2   \n",
      "258163  2014         198        46       74      29      1  2.7      1   \n",
      "258164  2014         198        46       74      29      1  2.7      2   \n",
      "258165  2014         198        46       75      38      1  2.8      1   \n",
      "258166  2014         198        46       75      38      1  2.8      2   \n",
      "258167  2014          95        99       23      45      1  2.9      1   \n",
      "258168  2014          95        99       23      45      1  2.9      2   \n",
      "258233  2014         198        46       80      29      1  3.0      1   \n",
      "258234  2014         198        46       80      29      1  3.0      2   \n",
      "258235  2014         198        48       13      23      1  2.7      1   \n",
      "258236  2014         198        48       13      23      1  2.7      2   \n",
      "258245  2014          95        99       82      40      1  3.0      1   \n",
      "258246  2014          95        99       82      40      1  3.0      2   \n",
      "258247  2014         198        48        4      30      1  2.7      1   \n",
      "258248  2014         198        48        4      30      1  2.7      2   \n",
      "258249  2014         309       103       22      44      1  2.8      1   \n",
      "258250  2014         309       103       22      44      1  2.8      2   \n",
      "258251  2014         309       103       82      40      1  2.9      1   \n",
      "258252  2014         309       103       82      40      1  2.9      2   \n",
      "\n",
      "            YIELD  CLASS_OF  GRAD  \n",
      "235042  66.124334      2013     0  \n",
      "235043  63.331891      2013     0  \n",
      "235044  63.107800      2013     0  \n",
      "235045  65.341278      2013     0  \n",
      "235048  75.171407      2013     1  \n",
      "235049  74.947315      2013     1  \n",
      "235122  66.019500      2011     1  \n",
      "235123  63.405200      2011     1  \n",
      "235124  70.375377      2011     1  \n",
      "235125  62.630472      2011     1  \n",
      "235126  57.984481      2011     1  \n",
      "235127  58.565007      2011     1  \n",
      "235128  60.598780      2012     1  \n",
      "235129  61.954034      2012     1  \n",
      "235206  60.404578      2011     1  \n",
      "235207  57.984481      2011     1  \n",
      "235208  60.308517      2011     1  \n",
      "235209  64.278071      2011     1  \n",
      "235210  65.050569      2011     1  \n",
      "235211  63.695463      2011     1  \n",
      "235212  60.018403      2012     1  \n",
      "235213  51.789033      2012     1  \n",
      "235290  60.260338      2011     1  \n",
      "235291  59.638325      2011     1  \n",
      "235292  57.770204      2011     1  \n",
      "235293  62.334261      2011     1  \n",
      "235294  58.703149      2011     1  \n",
      "235295  53.828159      2011     1  \n",
      "235296  58.703149      2012     1  \n",
      "235297  52.481381      2012     1  \n",
      "...           ...       ...   ...  \n",
      "258079  52.049258      2011     1  \n",
      "258080  54.424894      2011     1  \n",
      "258081  51.607916      2012     1  \n",
      "258082  57.927975      2012     1  \n",
      "258083  65.409680      2013     1  \n",
      "258084  55.609440      2013     1  \n",
      "258149  61.333806      2013     1  \n",
      "258150  61.780947      2013     1  \n",
      "258151  61.613065      2013     1  \n",
      "258152  65.416074      2013     1  \n",
      "258161  60.052158      2011     1  \n",
      "258162  40.493760      2011     1  \n",
      "258163  64.391827      2011     1  \n",
      "258164  56.159036      2011     1  \n",
      "258165  61.524142      2012     1  \n",
      "258166  64.524616      2012     1  \n",
      "258167  57.146852      2013     1  \n",
      "258168  64.630342      2013     1  \n",
      "258233  62.554486      2013     1  \n",
      "258234  59.494383      2013     1  \n",
      "258235  50.660992      2013     1  \n",
      "258236  64.556289      2013     1  \n",
      "258245  73.762174      2011     1  \n",
      "258246  58.520843      2011     1  \n",
      "258247  57.359940      2011     1  \n",
      "258248  57.215105      2011     1  \n",
      "258249  69.472023      2012     1  \n",
      "258250  64.089668      2012     1  \n",
      "258251  72.767815      2013     1  \n",
      "258252  60.186732      2013     1  \n",
      "\n",
      "[4379 rows x 11 columns]\n"
     ]
    }
   ],
   "source": [
    "print(valid_x)\n"
   ]
  },
  {
   "cell_type": "code",
   "execution_count": null,
   "metadata": {
    "collapsed": true
   },
   "outputs": [],
   "source": []
  }
 ],
 "metadata": {
  "anaconda-cloud": {},
  "kernelspec": {
   "display_name": "Python [conda root]",
   "language": "python",
   "name": "conda-root-py"
  },
  "language_info": {
   "codemirror_mode": {
    "name": "ipython",
    "version": 3
   },
   "file_extension": ".py",
   "mimetype": "text/x-python",
   "name": "python",
   "nbconvert_exporter": "python",
   "pygments_lexer": "ipython3",
   "version": "3.5.2"
  }
 },
 "nbformat": 4,
 "nbformat_minor": 0
}
