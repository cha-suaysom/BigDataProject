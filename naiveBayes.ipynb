{
 "cells": [
  {
   "cell_type": "code",
   "execution_count": 1,
   "metadata": {
    "collapsed": false
   },
   "outputs": [],
   "source": [
    "# import some basic libraries\n",
    "import pandas as pd\n",
    "import pickle\n",
    "import numpy as np\n",
    "import matplotlib.pyplot as plt\n",
    "import sklearn\n",
    "import seaborn as sns\n",
    "from sklearn import linear_model\n",
    "\n",
    "%matplotlib inline"
   ]
  },
  {
   "cell_type": "code",
   "execution_count": 2,
   "metadata": {
    "collapsed": false
   },
   "outputs": [
    {
     "name": "stdout",
     "output_type": "stream",
     "text": [
      "0.046202754663062964\n",
      "Experiment_Data: (258253, 12) \n",
      "Evaluation_Set: (38, 4)        \n",
      "Graduated_Set: (11932, 12)\n",
      "Experiment_Data Columns:\n",
      "['YEAR', 'EXPERIMENT', 'LOCATION', 'VARIETY', 'FAMILY', 'CHECK', 'RM', 'REPNO', 'YIELD', 'CLASS_OF', 'GRAD', 'BAGSOLD']\n",
      "Evaluation_Set Columns:\n",
      "['CLASS_OF', 'VARIETY', 'FAMILY', 'RM']\n"
     ]
    }
   ],
   "source": [
    "# IMPORT BASIC DATA\n",
    "EXPERIMENT_DATA = pickle.load(open('EXPERIMENT_SET_pandas.pkl', 'rb'))\n",
    "EVALUATION_SET = pickle.load(open('EVALUATION_SET_pandas.pkl', 'rb'))\n",
    "CONSIDERED = EXPERIMENT_DATA[EXPERIMENT_DATA[\"GRAD\"] == \"YES\"]\n",
    "\n",
    "sampleSize = 11932/258253\n",
    "print(sampleSize)\n",
    "print(\"Experiment_Data: {} \\nEvaluation_Set: {} \\\n",
    "       \\nGraduated_Set: {}\".format(EXPERIMENT_DATA.shape, \n",
    "                                  EVALUATION_SET.shape,\n",
    "                                  CONSIDERED.shape))\n",
    "print(\"Experiment_Data Columns:\\n{}\".format(list(EXPERIMENT_DATA.columns.values)))\n",
    "print(\"Evaluation_Set Columns:\\n{}\".format(list(EVALUATION_SET.columns.values)))"
   ]
  },
  {
   "cell_type": "code",
   "execution_count": 83,
   "metadata": {
    "collapsed": false,
    "scrolled": true
   },
   "outputs": [
    {
     "name": "stdout",
     "output_type": "stream",
     "text": [
      "(21894, 12)\n",
      "21894\n"
     ]
    }
   ],
   "source": [
    "clean = EXPERIMENT_DATA[EXPERIMENT_DATA[\"GRAD\"] != '.']\n",
    "print(clean.shape)\n",
    "clean.is_copy = False\n",
    "# remove bags sold for now, we just want to predict graduation \n",
    "# del clean[\"BAGSOLD\"]\n",
    "# del clean[\"YEAR\"]\n",
    "print(clean.shape[0])"
   ]
  },
  {
   "cell_type": "code",
   "execution_count": 84,
   "metadata": {
    "collapsed": false
   },
   "outputs": [],
   "source": [
    "var_dict = list(clean[\"VARIETY\"].to_dict().values())\n",
    "loc_dict = list(clean[\"LOCATION\"].to_dict().values())\n",
    "exp_dict = list(clean[\"EXPERIMENT\"].to_dict().values())\n",
    "family_dict = list(clean[\"FAMILY\"].to_dict().values())\n",
    "\n",
    "var_dict_eval = list(EVALUATION_SET[\"VARIETY\"].to_dict().values())\n",
    "family_dict_eval = list(EVALUATION_SET[\"FAMILY\"].to_dict().values())"
   ]
  },
  {
   "cell_type": "code",
   "execution_count": 85,
   "metadata": {
    "collapsed": false,
    "scrolled": true
   },
   "outputs": [],
   "source": [
    "from sklearn import preprocessing\n",
    "le = preprocessing.LabelEncoder()\n",
    "le1 = preprocessing.LabelEncoder()\n",
    "le2 = preprocessing.LabelEncoder()\n",
    "le3 = preprocessing.LabelEncoder()\n",
    "le4 = preprocessing.LabelEncoder()\n",
    "le5 = preprocessing.LabelEncoder()\n",
    "\n",
    "labeled_var = np.asarray(le.fit_transform(var_dict))\n",
    "labeled_loc = np.asarray(le1.fit_transform(loc_dict))\n",
    "labeled_exp = np.asarray(le2.fit_transform(exp_dict))\n",
    "labeled_fam = np.asarray(le3.fit_transform(family_dict))\n",
    "\n",
    "labeled_var_eval = np.asarray(le4.fit_transform(var_dict_eval))\n",
    "labeled_fam_eval = np.asarray(le5.fit_transform(family_dict_eval))\n",
    "\n"
   ]
  },
  {
   "cell_type": "code",
   "execution_count": 86,
   "metadata": {
    "collapsed": false
   },
   "outputs": [],
   "source": [
    "grad_idx = clean.columns.get_loc(\"GRAD\")\n",
    "\n",
    "clean[\"GRAD\"] = clean[\"GRAD\"].replace([\"YES\", \"NO\"], [1,0])\n",
    "clean[\"CHECK\"] = clean[\"CHECK\"].astype(int)\n",
    "clean[\"VARIETY\"] = labeled_var\n",
    "clean[\"LOCATION\"] = labeled_loc\n",
    "clean[\"EXPERIMENT\"] = labeled_exp\n",
    "clean[\"FAMILY\"] = labeled_fam\n",
    "clean[\"CLASS_OF\"] = clean[\"CLASS_OF\"].astype(int)\n",
    "clean[\"BAGSOLD\"] = clean[\"BAGSOLD\"].astype(int)\n",
    "\n",
    "EVALUATION_SET[\"VARIETY\"] = labeled_var_eval\n",
    "EVALUATION_SET[\"FAMILY\"] = labeled_fam_eval\n",
    "# clean.to_csv(\"clean.csv\")"
   ]
  },
  {
   "cell_type": "code",
   "execution_count": 87,
   "metadata": {
    "collapsed": false,
    "scrolled": false
   },
   "outputs": [
    {
     "name": "stdout",
     "output_type": "stream",
     "text": [
      "YEAR            int64\n",
      "EXPERIMENT      int64\n",
      "LOCATION        int64\n",
      "VARIETY         int64\n",
      "FAMILY          int64\n",
      "CHECK           int32\n",
      "RM            float64\n",
      "REPNO           int64\n",
      "YIELD         float64\n",
      "CLASS_OF        int32\n",
      "GRAD            int64\n",
      "BAGSOLD         int32\n",
      "dtype: object\n"
     ]
    },
    {
     "data": {
      "text/html": [
       "<div>\n",
       "<table border=\"1\" class=\"dataframe\">\n",
       "  <thead>\n",
       "    <tr style=\"text-align: right;\">\n",
       "      <th></th>\n",
       "      <th>YEAR</th>\n",
       "      <th>EXPERIMENT</th>\n",
       "      <th>LOCATION</th>\n",
       "      <th>VARIETY</th>\n",
       "      <th>FAMILY</th>\n",
       "      <th>CHECK</th>\n",
       "      <th>RM</th>\n",
       "      <th>REPNO</th>\n",
       "      <th>YIELD</th>\n",
       "      <th>CLASS_OF</th>\n",
       "      <th>GRAD</th>\n",
       "      <th>BAGSOLD</th>\n",
       "    </tr>\n",
       "  </thead>\n",
       "  <tbody>\n",
       "    <tr>\n",
       "      <th>694</th>\n",
       "      <td>2009</td>\n",
       "      <td>95</td>\n",
       "      <td>103</td>\n",
       "      <td>15</td>\n",
       "      <td>24</td>\n",
       "      <td>0</td>\n",
       "      <td>3.7</td>\n",
       "      <td>1</td>\n",
       "      <td>68.133720</td>\n",
       "      <td>2011</td>\n",
       "      <td>0</td>\n",
       "      <td>0</td>\n",
       "    </tr>\n",
       "    <tr>\n",
       "      <th>695</th>\n",
       "      <td>2009</td>\n",
       "      <td>95</td>\n",
       "      <td>103</td>\n",
       "      <td>15</td>\n",
       "      <td>24</td>\n",
       "      <td>0</td>\n",
       "      <td>3.7</td>\n",
       "      <td>2</td>\n",
       "      <td>74.836534</td>\n",
       "      <td>2011</td>\n",
       "      <td>0</td>\n",
       "      <td>0</td>\n",
       "    </tr>\n",
       "    <tr>\n",
       "      <th>1263</th>\n",
       "      <td>2009</td>\n",
       "      <td>95</td>\n",
       "      <td>103</td>\n",
       "      <td>19</td>\n",
       "      <td>1</td>\n",
       "      <td>0</td>\n",
       "      <td>3.8</td>\n",
       "      <td>1</td>\n",
       "      <td>48.027659</td>\n",
       "      <td>2011</td>\n",
       "      <td>0</td>\n",
       "      <td>0</td>\n",
       "    </tr>\n",
       "    <tr>\n",
       "      <th>1264</th>\n",
       "      <td>2009</td>\n",
       "      <td>95</td>\n",
       "      <td>103</td>\n",
       "      <td>19</td>\n",
       "      <td>1</td>\n",
       "      <td>0</td>\n",
       "      <td>3.8</td>\n",
       "      <td>2</td>\n",
       "      <td>52.497143</td>\n",
       "      <td>2011</td>\n",
       "      <td>0</td>\n",
       "      <td>0</td>\n",
       "    </tr>\n",
       "    <tr>\n",
       "      <th>1379</th>\n",
       "      <td>2009</td>\n",
       "      <td>198</td>\n",
       "      <td>48</td>\n",
       "      <td>74</td>\n",
       "      <td>29</td>\n",
       "      <td>0</td>\n",
       "      <td>2.1</td>\n",
       "      <td>1</td>\n",
       "      <td>61.924294</td>\n",
       "      <td>2011</td>\n",
       "      <td>1</td>\n",
       "      <td>61161</td>\n",
       "    </tr>\n",
       "  </tbody>\n",
       "</table>\n",
       "</div>"
      ],
      "text/plain": [
       "      YEAR  EXPERIMENT  LOCATION  VARIETY  FAMILY  CHECK   RM  REPNO  \\\n",
       "694   2009          95       103       15      24      0  3.7      1   \n",
       "695   2009          95       103       15      24      0  3.7      2   \n",
       "1263  2009          95       103       19       1      0  3.8      1   \n",
       "1264  2009          95       103       19       1      0  3.8      2   \n",
       "1379  2009         198        48       74      29      0  2.1      1   \n",
       "\n",
       "          YIELD  CLASS_OF  GRAD  BAGSOLD  \n",
       "694   68.133720      2011     0        0  \n",
       "695   74.836534      2011     0        0  \n",
       "1263  48.027659      2011     0        0  \n",
       "1264  52.497143      2011     0        0  \n",
       "1379  61.924294      2011     1    61161  "
      ]
     },
     "execution_count": 87,
     "metadata": {},
     "output_type": "execute_result"
    }
   ],
   "source": [
    "print(clean.dtypes)\n",
    "clean.head()"
   ]
  },
  {
   "cell_type": "code",
   "execution_count": 92,
   "metadata": {
    "collapsed": false
   },
   "outputs": [
    {
     "name": "stdout",
     "output_type": "stream",
     "text": [
      "['YEAR' 'EXPERIMENT' 'LOCATION' 'VARIETY' 'FAMILY' 'CHECK' 'RM' 'REPNO'\n",
      " 'YIELD' 'CLASS_OF' 'GRAD']\n",
      "CLASS_OF      int64\n",
      "VARIETY       int64\n",
      "FAMILY        int64\n",
      "RM          float64\n",
      "dtype: object\n",
      "(13136, 4)\n",
      "['VARIETY' 'FAMILY' 'RM' 'CLASS_OF']\n"
     ]
    }
   ],
   "source": [
    "# partition the clean data for 60/40 train test\n",
    "samples = int(clean.shape[0] * 0.6)\n",
    "features = clean.columns.values[:-1]\n",
    "print(features)\n",
    "train_x = clean[0:samples][features]\n",
    "del train_x[\"EXPERIMENT\"]\n",
    "del train_x[\"LOCATION\"]\n",
    "del train_x[\"CHECK\"]\n",
    "del train_x[\"REPNO\"]\n",
    "del train_x[\"YIELD\"]\n",
    "del train_x[\"YEAR\"]\n",
    "del train_x[\"GRAD\"]\n",
    "train_y = clean[0:samples][\"GRAD\"]\n",
    "valid_x = clean[samples:][features]\n",
    "del valid_x[\"EXPERIMENT\"]\n",
    "del valid_x[\"LOCATION\"]\n",
    "del valid_x[\"CHECK\"]\n",
    "del valid_x[\"REPNO\"]\n",
    "del valid_x[\"YIELD\"]\n",
    "del valid_x[\"YEAR\"]\n",
    "del valid_x[\"GRAD\"]\n",
    "valid_y = clean[samples:][\"GRAD\"]\n",
    "\n",
    "test_x = EVALUATION_SET\n",
    "print(EVALUATION_SET.dtypes)\n",
    "\n",
    "print(train_x.shape)\n",
    "print(train_x.columns.values)"
   ]
  },
  {
   "cell_type": "code",
   "execution_count": 93,
   "metadata": {
    "collapsed": false
   },
   "outputs": [
    {
     "name": "stdout",
     "output_type": "stream",
     "text": [
      "['VARIETY' 'FAMILY' 'RM' 'CLASS_OF']\n",
      "(8758, 4) (38, 4)\n"
     ]
    },
    {
     "data": {
      "text/plain": [
       "array(['VARIETY', 'FAMILY', 'RM', 'CLASS_OF'], dtype=object)"
      ]
     },
     "execution_count": 93,
     "metadata": {},
     "output_type": "execute_result"
    }
   ],
   "source": [
    "from sklearn.naive_bayes import BernoulliNB\n",
    "\n",
    "print(train_x.columns.values)\n",
    "gnb = BernoulliNB()\n",
    "gnb.fit(train_x, train_y)\n",
    "print(valid_x.shape, test_x.shape)\n",
    "valid_x.columns.values"
   ]
  },
  {
   "cell_type": "code",
   "execution_count": 94,
   "metadata": {
    "collapsed": false
   },
   "outputs": [
    {
     "name": "stdout",
     "output_type": "stream",
     "text": [
      "Accuracy of the Model 0.381708152546\n",
      "[1 0 0 0 0 0 0 0 0 0 0 0 0 0 0 0 0 0 0 0 0 0 0 0 0 0 0 0 0 0 0 0 0 0 0 0 0\n",
      " 0]\n"
     ]
    }
   ],
   "source": [
    "predictions = gnb.predict(valid_x)\n",
    "print(\"Accuracy of the Model\", np.sum(predictions == valid_y) / len(predictions))\n",
    "new_pred = gnb.predict(test_x)\n",
    "valid_x.shape\n",
    "print(new_pred)"
   ]
  }
 ],
 "metadata": {
  "anaconda-cloud": {},
  "kernelspec": {
   "display_name": "Python [conda root]",
   "language": "python",
   "name": "conda-root-py"
  },
  "language_info": {
   "codemirror_mode": {
    "name": "ipython",
    "version": 3
   },
   "file_extension": ".py",
   "mimetype": "text/x-python",
   "name": "python",
   "nbconvert_exporter": "python",
   "pygments_lexer": "ipython3",
   "version": "3.5.2"
  }
 },
 "nbformat": 4,
 "nbformat_minor": 0
}
