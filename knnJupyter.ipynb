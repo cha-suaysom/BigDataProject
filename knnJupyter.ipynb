{
 "cells": [
  {
   "cell_type": "code",
   "execution_count": 120,
   "metadata": {
    "collapsed": true
   },
   "outputs": [],
   "source": [
    "import pandas as pd\n",
    "import pickle\n",
    "import numpy as np\n",
    "import matplotlib.pyplot as plt\n",
    "import sklearn\n",
    "import seaborn as sns\n",
    "\n",
    "from LinearRegression import plotRegression\n",
    "%matplotlib inline\n",
    "from sklearn import linear_model"
   ]
  },
  {
   "cell_type": "code",
   "execution_count": 109,
   "metadata": {
    "collapsed": false
   },
   "outputs": [],
   "source": [
    "# experiment_data = pandas.read_excel(\"data/expSet.xlsx\")\n",
    "# evaluation_set = pandas.read_excel(\"data/evalSet.xlsx\")\n",
    "\n",
    "EXPERIMENT_DATA = pickle.load(open('EXPERIMENT_SET_pandas.pkl', 'rb'))\n",
    "EVALUATION_SET = pickle.load(open('EVALUATION_SET_pandas.pkl', 'rb'))\n",
    "#EXPERIMENT_DATA = EXPERIMENT_DATA[EXPERIMENT_DATA[\"GRAD\"] == \"YES\"]\n"
   ]
  },
  {
   "cell_type": "code",
   "execution_count": 110,
   "metadata": {
    "collapsed": false
   },
   "outputs": [],
   "source": [
    "# graduated = experiment_data[experiment_data[\"GRAD\"] == \"YES\"]\n",
    "graduated = EXPERIMENT_DATA[EXPERIMENT_DATA[\"GRAD\"] == \"YES\"]"
   ]
  },
  {
   "cell_type": "code",
   "execution_count": 111,
   "metadata": {
    "collapsed": false
   },
   "outputs": [
    {
     "name": "stdout",
     "output_type": "stream",
     "text": [
      "Experiment_Data values ['YEAR' 'EXPERIMENT' 'LOCATION' 'VARIETY' 'FAMILY' 'CHECK' 'RM' 'REPNO'\n",
      " 'YIELD' 'CLASS_OF' 'GRAD' 'BAGSOLD']\n",
      "\n",
      "Evaluation_Set values ['CLASS_OF' 'VARIETY' 'FAMILY' 'RM']\n"
     ]
    }
   ],
   "source": [
    "print(\"Experiment_Data values {}\\n\".format(EXPERIMENT_DATA.columns.values))\n",
    "print(\"Evaluation_Set values {}\".format(EVALUATION_SET.columns.values))"
   ]
  },
  {
   "cell_type": "code",
   "execution_count": 112,
   "metadata": {
    "collapsed": false
   },
   "outputs": [
    {
     "name": "stdout",
     "output_type": "stream",
     "text": [
      "Shape of Experiment data: (258253, 12)\n",
      "Shape of Evaluation Set:(38, 4)\n"
     ]
    }
   ],
   "source": [
    "print(\"Shape of Experiment data: {}\\nShape of Evaluation Set:{}\"\n",
    "      .format(experiment_data.shape, evaluation_set.shape))"
   ]
  },
  {
   "cell_type": "code",
   "execution_count": 113,
   "metadata": {
    "collapsed": false
   },
   "outputs": [
    {
     "data": {
      "text/html": [
       "<div>\n",
       "<table border=\"1\" class=\"dataframe\">\n",
       "  <thead>\n",
       "    <tr style=\"text-align: right;\">\n",
       "      <th></th>\n",
       "      <th>YEAR</th>\n",
       "      <th>EXPERIMENT</th>\n",
       "      <th>LOCATION</th>\n",
       "      <th>VARIETY</th>\n",
       "      <th>FAMILY</th>\n",
       "      <th>CHECK</th>\n",
       "      <th>RM</th>\n",
       "      <th>REPNO</th>\n",
       "      <th>YIELD</th>\n",
       "      <th>CLASS_OF</th>\n",
       "      <th>GRAD</th>\n",
       "      <th>BAGSOLD</th>\n",
       "    </tr>\n",
       "  </thead>\n",
       "  <tbody>\n",
       "    <tr>\n",
       "      <th>0</th>\n",
       "      <td>2009</td>\n",
       "      <td>09YT000052</td>\n",
       "      <td>3210</td>\n",
       "      <td>V000016</td>\n",
       "      <td>FAM05619</td>\n",
       "      <td>True</td>\n",
       "      <td>3.9</td>\n",
       "      <td>1</td>\n",
       "      <td>50.302327</td>\n",
       "      <td>.</td>\n",
       "      <td>.</td>\n",
       "      <td>.</td>\n",
       "    </tr>\n",
       "    <tr>\n",
       "      <th>1</th>\n",
       "      <td>2009</td>\n",
       "      <td>09YT000052</td>\n",
       "      <td>3210</td>\n",
       "      <td>V000016</td>\n",
       "      <td>FAM05619</td>\n",
       "      <td>True</td>\n",
       "      <td>3.9</td>\n",
       "      <td>2</td>\n",
       "      <td>48.331305</td>\n",
       "      <td>.</td>\n",
       "      <td>.</td>\n",
       "      <td>.</td>\n",
       "    </tr>\n",
       "    <tr>\n",
       "      <th>2</th>\n",
       "      <td>2009</td>\n",
       "      <td>09YT000052</td>\n",
       "      <td>3210</td>\n",
       "      <td>V000018</td>\n",
       "      <td>FAM05619</td>\n",
       "      <td>True</td>\n",
       "      <td>3.7</td>\n",
       "      <td>1</td>\n",
       "      <td>53.103246</td>\n",
       "      <td>.</td>\n",
       "      <td>.</td>\n",
       "      <td>.</td>\n",
       "    </tr>\n",
       "    <tr>\n",
       "      <th>3</th>\n",
       "      <td>2009</td>\n",
       "      <td>09YT000052</td>\n",
       "      <td>3210</td>\n",
       "      <td>V000018</td>\n",
       "      <td>FAM05619</td>\n",
       "      <td>True</td>\n",
       "      <td>3.7</td>\n",
       "      <td>2</td>\n",
       "      <td>53.103246</td>\n",
       "      <td>.</td>\n",
       "      <td>.</td>\n",
       "      <td>.</td>\n",
       "    </tr>\n",
       "    <tr>\n",
       "      <th>4</th>\n",
       "      <td>2009</td>\n",
       "      <td>09YT000052</td>\n",
       "      <td>3210</td>\n",
       "      <td>V000039</td>\n",
       "      <td>FAM05625</td>\n",
       "      <td>True</td>\n",
       "      <td>3.4</td>\n",
       "      <td>1</td>\n",
       "      <td>58.081136</td>\n",
       "      <td>.</td>\n",
       "      <td>.</td>\n",
       "      <td>.</td>\n",
       "    </tr>\n",
       "  </tbody>\n",
       "</table>\n",
       "</div>"
      ],
      "text/plain": [
       "   YEAR  EXPERIMENT LOCATION  VARIETY    FAMILY CHECK   RM  REPNO      YIELD  \\\n",
       "0  2009  09YT000052     3210  V000016  FAM05619  True  3.9      1  50.302327   \n",
       "1  2009  09YT000052     3210  V000016  FAM05619  True  3.9      2  48.331305   \n",
       "2  2009  09YT000052     3210  V000018  FAM05619  True  3.7      1  53.103246   \n",
       "3  2009  09YT000052     3210  V000018  FAM05619  True  3.7      2  53.103246   \n",
       "4  2009  09YT000052     3210  V000039  FAM05625  True  3.4      1  58.081136   \n",
       "\n",
       "  CLASS_OF GRAD BAGSOLD  \n",
       "0        .    .       .  \n",
       "1        .    .       .  \n",
       "2        .    .       .  \n",
       "3        .    .       .  \n",
       "4        .    .       .  "
      ]
     },
     "execution_count": 113,
     "metadata": {},
     "output_type": "execute_result"
    }
   ],
   "source": [
    "EXPERIMENT_DATA.head()"
   ]
  },
  {
   "cell_type": "code",
   "execution_count": 114,
   "metadata": {
    "collapsed": false
   },
   "outputs": [
    {
     "name": "stdout",
     "output_type": "stream",
     "text": [
      "The number of unique locations that we have is 152.\n",
      "The number of unique yields that we have is 107.\n"
     ]
    }
   ],
   "source": [
    "print(\"The number of unique locations that we have is {}.\"\n",
    "      .format(len(set(EXPERIMENT_DATA['LOCATION']))))\n",
    "print(\"The number of unique yields that we have is {}.\"\n",
    "      .format(len(set(np.floor(EXPERIMENT_DATA['YIELD'])))))"
   ]
  },
  {
   "cell_type": "code",
   "execution_count": 115,
   "metadata": {
    "collapsed": false
   },
   "outputs": [
    {
     "data": {
      "text/plain": [
       "KNeighborsRegressor(algorithm='auto', leaf_size=30, metric='minkowski',\n",
       "          metric_params=None, n_jobs=1, n_neighbors=100, p=2,\n",
       "          weights='uniform')"
      ]
     },
     "execution_count": 115,
     "metadata": {},
     "output_type": "execute_result"
    }
   ],
   "source": [
    "from sklearn.neighbors import KNeighborsRegressor\n",
    "X = pd.to_numeric(graduated['LOCATION']).reshape(-1,1)\n",
    "Y = graduated['YIELD']\n",
    "knn = KNeighborsRegressor(n_neighbors=100)\n",
    "knn.fit(X, Y)"
   ]
  },
  {
   "cell_type": "code",
   "execution_count": 116,
   "metadata": {
    "collapsed": false
   },
   "outputs": [],
   "source": [
    "predictions = knn.predict(X)"
   ]
  },
  {
   "cell_type": "code",
   "execution_count": 117,
   "metadata": {
    "collapsed": false
   },
   "outputs": [
    {
     "name": "stdout",
     "output_type": "stream",
     "text": [
      "Mean Squared Error is: 100.06027816663513 \n"
     ]
    }
   ],
   "source": [
    "print(\"Mean Squared Error is: {} \".format(np.sum((predictions - Y)**2)/ len(Y)))"
   ]
  },
  {
   "cell_type": "code",
   "execution_count": 121,
   "metadata": {
    "collapsed": false
   },
   "outputs": [
    {
     "data": {
      "text/plain": [
       "<matplotlib.collections.PathCollection at 0x7f83730e3a20>"
      ]
     },
     "execution_count": 121,
     "metadata": {},
     "output_type": "execute_result"
    },
    {
     "data": {
      "image/png": "[encoded data removed]",
      "text/plain": [
       "<matplotlib.figure.Figure at 0x7f837a6dc5c0>"
      ]
     },
     "metadata": {},
     "output_type": "display_data"
    }
   ],
   "source": [
    "plt.xlabel(\"Location\")\n",
    "plt.ylabel(\"Yield\")\n",
    "plt.title(\"Location vs. Yield\")\n",
    "plt.scatter(X, Y)\n",
    "\n"
   ]
  },
  {
   "cell_type": "code",
   "execution_count": null,
   "metadata": {
    "collapsed": true
   },
   "outputs": [],
   "source": []
  }
 ],
 "metadata": {
  "anaconda-cloud": {},
  "kernelspec": {
   "display_name": "Python [Root]",
   "language": "python",
   "name": "Python [Root]"
  },
  "language_info": {
   "codemirror_mode": {
    "name": "ipython",
    "version": 3
   },
   "file_extension": ".py",
   "mimetype": "text/x-python",
   "name": "python",
   "nbconvert_exporter": "python",
   "pygments_lexer": "ipython3",
   "version": "3.5.1"
  }
 },
 "nbformat": 4,
 "nbformat_minor": 0
}
